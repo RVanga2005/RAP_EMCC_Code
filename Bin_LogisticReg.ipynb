{
  "nbformat": 4,
  "nbformat_minor": 0,
  "metadata": {
    "colab": {
      "provenance": [],
      "authorship_tag": "ABX9TyOskLCE3EnxtOeceBGCe4rs",
      "include_colab_link": true
    },
    "kernelspec": {
      "name": "python3",
      "display_name": "Python 3"
    },
    "language_info": {
      "name": "python"
    }
  },
  "cells": [
    {
      "cell_type": "markdown",
      "metadata": {
        "id": "view-in-github",
        "colab_type": "text"
      },
      "source": [
        "<a href=\"https://colab.research.google.com/github/RVanga2005/RAP_EMCC_Code/blob/main/Bin_LogisticReg.ipynb\" target=\"_parent\"><img src=\"https://colab.research.google.com/assets/colab-badge.svg\" alt=\"Open In Colab\"/></a>"
      ]
    },
    {
      "cell_type": "code",
      "execution_count": 1,
      "metadata": {
        "id": "I68l7OpDAyKM"
      },
      "outputs": [],
      "source": [
        "import pandas as pd\n",
        "import numpy as np\n",
        "import statsmodels.api as sm\n",
        "from sklearn.preprocessing import StandardScaler\n",
        "from sklearn.metrics import roc_auc_score\n",
        "from statsmodels.stats.outliers_influence import variance_inflation_factor\n",
        "\n",
        "#Takes in pandas dataframe (df), lists of categorical and continuous predictors to check, and the output variable column name\n",
        "def binary_logistic_regression(df, categorical_vars, continuous_vars, output_var):\n",
        "\n",
        "    # Validate input\n",
        "    all_cols = categorical_vars + continuous_vars + [output_var]\n",
        "    missing_cols = [col for col in all_cols if col not in df.columns]\n",
        "\n",
        "    if missing_cols:\n",
        "        raise ValueError(f\"Columns not found in dataframe: {missing_cols}\")\n",
        "\n",
        "    # Validate output variable is binary\n",
        "    if df[output_var].nunique(dropna=False) != 2:\n",
        "        raise ValueError(f\"Output variable '{output_var}' must be binary.\")\n",
        "\n",
        "    #May need to tweak encoding of cat/cont variables to create new columns, rather than mutating original value\n",
        "\n",
        "    # One-hot encode categorical variables to avoid multicollinearity\n",
        "    df_encoded = pd.get_dummies(df, columns=categorical_vars, drop_first=True)\n",
        "\n",
        "    # Standardize (mean = 0, var = 1) continuous variables\n",
        "    df_encoded[continuous_vars] = StandardScaler().fit_transform(df_encoded[continuous_vars])\n",
        "\n",
        "    # Prepare model input\n",
        "    X = df_encoded.drop(columns=[output_var])\n",
        "    X = sm.add_constant(X)  # Add intercept - logistic regression requires intercept\n",
        "    y = df_encoded[output_var]\n",
        "\n",
        "    # Fit logistic regression model\n",
        "    model = sm.Logit(y, X).fit(disp=0)\n",
        "\n",
        "    # Extract model summary stats\n",
        "    summary_df = model.summary2().tables[1]  # Coefficients table\n",
        "    summary_df = summary_df.rename(columns={'Coef.': 'Coef', 'Std.Err.': 'SE Coef', 'z': 'Z-Value', 'P>|z|': 'P-Value'})\n",
        "\n",
        "    # Compute Variance Inflation Factor (VIF) - checks for multicollinearity\n",
        "    vif_data = pd.DataFrame()\n",
        "    vif_data['Variable'] = X.columns\n",
        "    vif_data['VIF'] = [variance_inflation_factor(X.values, i) for i in range(X.shape[1])]\n",
        "\n",
        "    # Compute Odds Ratios and 95% Confidence Intervals (converts from log form to odds ratios)\n",
        "    summary_df['Odds Ratio'] = np.exp(summary_df['Coef'])\n",
        "    summary_df['95% CI Lower'] = np.exp(summary_df['Coef'] - 1.96 * summary_df['SE Coef'])\n",
        "    summary_df['95% CI Upper'] = np.exp(summary_df['Coef'] + 1.96 * summary_df['SE Coef'])\n",
        "\n",
        "    # Merge VIF values\n",
        "    summary_df = summary_df.merge(vif_data, left_index=True, right_on=\"Variable\").drop(columns=['Variable'])\n",
        "\n",
        "    # Compute Model Fit Metrics\n",
        "    deviance_rsq = 1 - (model.deviance / model.null_deviance)\n",
        "    n = len(y)\n",
        "    numPredictors = X.shape[1] - 1  # Number of predictors excluding intercept\n",
        "    deviance_rsq_adj = 1 - ((model.deviance - numPredictors) / (model.null_deviance - 1))\n",
        "\n",
        "    # AIC, AICc, BIC\n",
        "    aic = model.aic\n",
        "    aicc = aic + (2 * k * (k + 1)) / (n - k - 1) if n > k + 1 else np.nan\n",
        "    bic = model.bic\n",
        "\n",
        "    # Compute Area Under ROC Curve\n",
        "    auc = roc_auc_score(y, model.predict(X))\n",
        "\n",
        "    # Print Model Fit Metrics\n",
        "    print(f\"Deviance R-Sq: {deviance_rsq:.4f}\")\n",
        "    print(f\"Deviance R-Sq (Adj): {deviance_rsq_adj:.4f}\")\n",
        "    print(f\"AIC: {aic:.4f}\")\n",
        "    print(f\"AICc: {aicc:.4f}\")\n",
        "    print(f\"BIC: {bic:.4f}\")\n",
        "    print(f\"Area Under ROC Curve: {auc:.4f}\")\n",
        "\n",
        "    return summary_df"
      ]
    }
  ]
}